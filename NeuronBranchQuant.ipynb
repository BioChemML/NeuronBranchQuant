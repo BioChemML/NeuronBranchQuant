{
 "cells": [
  {
   "cell_type": "code",
   "execution_count": null,
   "metadata": {},
   "outputs": [],
   "source": [
    "import cv2\n",
    "import numpy as np\n",
    "from skimage import measure\n",
    "import os\n",
    "from skimage.morphology import skeletonize\n",
    "import pandas as pd\n",
    "\n",
    "# Set the directory containing the images\n",
    "image_directory = '/Users/yonghengwang/Downloads/1_Projects/Tanner/Images_Folder5'  # Update this with your actual folder path\n",
    "\n",
    "# List to store results\n",
    "results = []\n",
    "\n",
    "# Function to process each image and get total branch length\n",
    "def analyze_total_branch_length(image_path):\n",
    "    # Load the image\n",
    "    image = cv2.imread(image_path, cv2.IMREAD_GRAYSCALE)\n",
    "\n",
    "    # Threshold the image to separate branches\n",
    "    _, binary = cv2.threshold(image, 50, 255, cv2.THRESH_BINARY)\n",
    "\n",
    "    # Skeletonize the binary image\n",
    "    skeleton = skeletonize(binary > 0)\n",
    "\n",
    "    # Label the skeleton and measure total branch length\n",
    "    label_skeleton = measure.label(skeleton, connectivity=2)\n",
    "    regions = measure.regionprops(label_skeleton)\n",
    "    total_branch_length = sum(region.perimeter for region in regions if region.perimeter > 0)\n",
    "\n",
    "    # Append results to the list\n",
    "    results.append({\n",
    "        \"Image Name\": os.path.basename(image_path),\n",
    "        \"Total Branch Length (in pixels)\": total_branch_length\n",
    "    })\n",
    "\n",
    "# Loop through each file in the directory\n",
    "for filename in os.listdir(image_directory):\n",
    "    if filename.lower().endswith(('.png', '.jpg', '.jpeg', '.tif', '.tiff')):\n",
    "        file_path = os.path.join(image_directory, filename)\n",
    "        analyze_total_branch_length(file_path)\n",
    "\n",
    "# Create a DataFrame and save to Excel\n",
    "df = pd.DataFrame(results)\n",
    "output_path = '/Users/yonghengwang/Downloads/1_Projects/Tanner/Total_Branch_Lengths_5.xlsx'  # Update this with your desired save path\n",
    "df.to_excel(output_path, index=False)\n",
    "\n",
    "print(f\"Output saved to {output_path}\")\n"
   ]
  }
 ],
 "metadata": {
  "language_info": {
   "name": "python"
  }
 },
 "nbformat": 4,
 "nbformat_minor": 2
}
